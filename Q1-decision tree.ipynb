{
 "cells": [
  {
   "cell_type": "code",
   "execution_count": 2,
   "id": "2527338f-05c4-4d5a-a6be-57a7b9088239",
   "metadata": {},
   "outputs": [
    {
     "name": "stdout",
     "output_type": "stream",
     "text": [
      "Defaulting to user installation because normal site-packages is not writeable\n",
      "Requirement already satisfied: pandas in c:\\programdata\\anaconda3\\lib\\site-packages (2.1.4)\n",
      "Requirement already satisfied: numpy<2,>=1.23.2 in c:\\programdata\\anaconda3\\lib\\site-packages (from pandas) (1.26.4)\n",
      "Requirement already satisfied: python-dateutil>=2.8.2 in c:\\programdata\\anaconda3\\lib\\site-packages (from pandas) (2.8.2)\n",
      "Requirement already satisfied: pytz>=2020.1 in c:\\programdata\\anaconda3\\lib\\site-packages (from pandas) (2023.3.post1)\n",
      "Requirement already satisfied: tzdata>=2022.1 in c:\\programdata\\anaconda3\\lib\\site-packages (from pandas) (2023.3)\n",
      "Requirement already satisfied: six>=1.5 in c:\\programdata\\anaconda3\\lib\\site-packages (from python-dateutil>=2.8.2->pandas) (1.16.0)\n"
     ]
    }
   ],
   "source": [
    "!pip install pandas"
   ]
  },
  {
   "cell_type": "code",
   "execution_count": 3,
   "id": "b2fc6984-2060-4307-912f-8063e4864631",
   "metadata": {},
   "outputs": [],
   "source": [
    "import pandas as pd"
   ]
  },
  {
   "cell_type": "code",
   "execution_count": 4,
   "id": "61ba1226-7402-45af-851c-66e43ef24ee6",
   "metadata": {},
   "outputs": [],
   "source": [
    "df = pd.read_csv('C:\\\\Users\\\\Chaudhary Computer\\\\Desktop\\\\Data mining and Machine learning\\\\assignment\\\\wifi_localization.txt', delimiter='\\t')\n"
   ]
  },
  {
   "cell_type": "code",
   "execution_count": 5,
   "id": "2af2ce4a-5df9-4d1c-80ed-3c9fe6dc2178",
   "metadata": {},
   "outputs": [],
   "source": [
    "df.columns = ['WiFi1', 'WiFi2', 'WiFi3', 'WiFi4', 'WiFi5', 'WiFi6', 'WiFi7', 'Room']"
   ]
  },
  {
   "cell_type": "code",
   "execution_count": 6,
   "id": "5d855173-9bcc-46bb-820d-457b925db274",
   "metadata": {},
   "outputs": [
    {
     "data": {
      "text/plain": [
       "<bound method NDFrame.head of       WiFi1  WiFi2  WiFi3  WiFi4  WiFi5  WiFi6  WiFi7  Room\n",
       "0       -68    -57    -61    -65    -71    -85    -85     1\n",
       "1       -63    -60    -60    -67    -76    -85    -84     1\n",
       "2       -61    -60    -68    -62    -77    -90    -80     1\n",
       "3       -63    -65    -60    -63    -77    -81    -87     1\n",
       "4       -64    -55    -63    -66    -76    -88    -83     1\n",
       "...     ...    ...    ...    ...    ...    ...    ...   ...\n",
       "1994    -59    -59    -48    -66    -50    -86    -94     4\n",
       "1995    -59    -56    -50    -62    -47    -87    -90     4\n",
       "1996    -62    -59    -46    -65    -45    -87    -88     4\n",
       "1997    -62    -58    -52    -61    -41    -90    -85     4\n",
       "1998    -59    -50    -45    -60    -45    -88    -87     4\n",
       "\n",
       "[1999 rows x 8 columns]>"
      ]
     },
     "execution_count": 6,
     "metadata": {},
     "output_type": "execute_result"
    }
   ],
   "source": [
    "df.head"
   ]
  },
  {
   "cell_type": "code",
   "execution_count": 7,
   "id": "6ebb5150-abf7-4de8-b8ed-0287d2e5ec44",
   "metadata": {},
   "outputs": [
    {
     "data": {
      "text/html": [
       "<div>\n",
       "<style scoped>\n",
       "    .dataframe tbody tr th:only-of-type {\n",
       "        vertical-align: middle;\n",
       "    }\n",
       "\n",
       "    .dataframe tbody tr th {\n",
       "        vertical-align: top;\n",
       "    }\n",
       "\n",
       "    .dataframe thead th {\n",
       "        text-align: right;\n",
       "    }\n",
       "</style>\n",
       "<table border=\"1\" class=\"dataframe\">\n",
       "  <thead>\n",
       "    <tr style=\"text-align: right;\">\n",
       "      <th></th>\n",
       "      <th>WiFi1</th>\n",
       "      <th>WiFi2</th>\n",
       "      <th>WiFi3</th>\n",
       "      <th>WiFi4</th>\n",
       "      <th>WiFi5</th>\n",
       "      <th>WiFi6</th>\n",
       "      <th>WiFi7</th>\n",
       "      <th>Room</th>\n",
       "    </tr>\n",
       "  </thead>\n",
       "  <tbody>\n",
       "    <tr>\n",
       "      <th>0</th>\n",
       "      <td>-68</td>\n",
       "      <td>-57</td>\n",
       "      <td>-61</td>\n",
       "      <td>-65</td>\n",
       "      <td>-71</td>\n",
       "      <td>-85</td>\n",
       "      <td>-85</td>\n",
       "      <td>1</td>\n",
       "    </tr>\n",
       "    <tr>\n",
       "      <th>1</th>\n",
       "      <td>-63</td>\n",
       "      <td>-60</td>\n",
       "      <td>-60</td>\n",
       "      <td>-67</td>\n",
       "      <td>-76</td>\n",
       "      <td>-85</td>\n",
       "      <td>-84</td>\n",
       "      <td>1</td>\n",
       "    </tr>\n",
       "    <tr>\n",
       "      <th>2</th>\n",
       "      <td>-61</td>\n",
       "      <td>-60</td>\n",
       "      <td>-68</td>\n",
       "      <td>-62</td>\n",
       "      <td>-77</td>\n",
       "      <td>-90</td>\n",
       "      <td>-80</td>\n",
       "      <td>1</td>\n",
       "    </tr>\n",
       "    <tr>\n",
       "      <th>3</th>\n",
       "      <td>-63</td>\n",
       "      <td>-65</td>\n",
       "      <td>-60</td>\n",
       "      <td>-63</td>\n",
       "      <td>-77</td>\n",
       "      <td>-81</td>\n",
       "      <td>-87</td>\n",
       "      <td>1</td>\n",
       "    </tr>\n",
       "    <tr>\n",
       "      <th>4</th>\n",
       "      <td>-64</td>\n",
       "      <td>-55</td>\n",
       "      <td>-63</td>\n",
       "      <td>-66</td>\n",
       "      <td>-76</td>\n",
       "      <td>-88</td>\n",
       "      <td>-83</td>\n",
       "      <td>1</td>\n",
       "    </tr>\n",
       "    <tr>\n",
       "      <th>...</th>\n",
       "      <td>...</td>\n",
       "      <td>...</td>\n",
       "      <td>...</td>\n",
       "      <td>...</td>\n",
       "      <td>...</td>\n",
       "      <td>...</td>\n",
       "      <td>...</td>\n",
       "      <td>...</td>\n",
       "    </tr>\n",
       "    <tr>\n",
       "      <th>1994</th>\n",
       "      <td>-59</td>\n",
       "      <td>-59</td>\n",
       "      <td>-48</td>\n",
       "      <td>-66</td>\n",
       "      <td>-50</td>\n",
       "      <td>-86</td>\n",
       "      <td>-94</td>\n",
       "      <td>4</td>\n",
       "    </tr>\n",
       "    <tr>\n",
       "      <th>1995</th>\n",
       "      <td>-59</td>\n",
       "      <td>-56</td>\n",
       "      <td>-50</td>\n",
       "      <td>-62</td>\n",
       "      <td>-47</td>\n",
       "      <td>-87</td>\n",
       "      <td>-90</td>\n",
       "      <td>4</td>\n",
       "    </tr>\n",
       "    <tr>\n",
       "      <th>1996</th>\n",
       "      <td>-62</td>\n",
       "      <td>-59</td>\n",
       "      <td>-46</td>\n",
       "      <td>-65</td>\n",
       "      <td>-45</td>\n",
       "      <td>-87</td>\n",
       "      <td>-88</td>\n",
       "      <td>4</td>\n",
       "    </tr>\n",
       "    <tr>\n",
       "      <th>1997</th>\n",
       "      <td>-62</td>\n",
       "      <td>-58</td>\n",
       "      <td>-52</td>\n",
       "      <td>-61</td>\n",
       "      <td>-41</td>\n",
       "      <td>-90</td>\n",
       "      <td>-85</td>\n",
       "      <td>4</td>\n",
       "    </tr>\n",
       "    <tr>\n",
       "      <th>1998</th>\n",
       "      <td>-59</td>\n",
       "      <td>-50</td>\n",
       "      <td>-45</td>\n",
       "      <td>-60</td>\n",
       "      <td>-45</td>\n",
       "      <td>-88</td>\n",
       "      <td>-87</td>\n",
       "      <td>4</td>\n",
       "    </tr>\n",
       "  </tbody>\n",
       "</table>\n",
       "<p>1999 rows × 8 columns</p>\n",
       "</div>"
      ],
      "text/plain": [
       "      WiFi1  WiFi2  WiFi3  WiFi4  WiFi5  WiFi6  WiFi7  Room\n",
       "0       -68    -57    -61    -65    -71    -85    -85     1\n",
       "1       -63    -60    -60    -67    -76    -85    -84     1\n",
       "2       -61    -60    -68    -62    -77    -90    -80     1\n",
       "3       -63    -65    -60    -63    -77    -81    -87     1\n",
       "4       -64    -55    -63    -66    -76    -88    -83     1\n",
       "...     ...    ...    ...    ...    ...    ...    ...   ...\n",
       "1994    -59    -59    -48    -66    -50    -86    -94     4\n",
       "1995    -59    -56    -50    -62    -47    -87    -90     4\n",
       "1996    -62    -59    -46    -65    -45    -87    -88     4\n",
       "1997    -62    -58    -52    -61    -41    -90    -85     4\n",
       "1998    -59    -50    -45    -60    -45    -88    -87     4\n",
       "\n",
       "[1999 rows x 8 columns]"
      ]
     },
     "execution_count": 7,
     "metadata": {},
     "output_type": "execute_result"
    }
   ],
   "source": [
    "df.iloc[:,:]"
   ]
  },
  {
   "cell_type": "code",
   "execution_count": 8,
   "id": "a2054ff9-22bf-478f-9720-1a2afa092679",
   "metadata": {},
   "outputs": [
    {
     "name": "stdout",
     "output_type": "stream",
     "text": [
      "<class 'pandas.core.frame.DataFrame'>\n",
      "RangeIndex: 1999 entries, 0 to 1998\n",
      "Data columns (total 8 columns):\n",
      " #   Column  Non-Null Count  Dtype\n",
      "---  ------  --------------  -----\n",
      " 0   WiFi1   1999 non-null   int64\n",
      " 1   WiFi2   1999 non-null   int64\n",
      " 2   WiFi3   1999 non-null   int64\n",
      " 3   WiFi4   1999 non-null   int64\n",
      " 4   WiFi5   1999 non-null   int64\n",
      " 5   WiFi6   1999 non-null   int64\n",
      " 6   WiFi7   1999 non-null   int64\n",
      " 7   Room    1999 non-null   int64\n",
      "dtypes: int64(8)\n",
      "memory usage: 125.1 KB\n"
     ]
    }
   ],
   "source": [
    "df.info()"
   ]
  },
  {
   "cell_type": "code",
   "execution_count": 9,
   "id": "ca93f6b3-8fae-42a8-b4e6-12959fc549f8",
   "metadata": {},
   "outputs": [
    {
     "data": {
      "text/plain": [
       "(1999, 8)"
      ]
     },
     "execution_count": 9,
     "metadata": {},
     "output_type": "execute_result"
    }
   ],
   "source": [
    "df.shape"
   ]
  },
  {
   "cell_type": "code",
   "execution_count": 10,
   "id": "283bab1e-cad4-4a68-a5f1-9fd31d6fd3b1",
   "metadata": {},
   "outputs": [
    {
     "data": {
      "text/html": [
       "<div>\n",
       "<style scoped>\n",
       "    .dataframe tbody tr th:only-of-type {\n",
       "        vertical-align: middle;\n",
       "    }\n",
       "\n",
       "    .dataframe tbody tr th {\n",
       "        vertical-align: top;\n",
       "    }\n",
       "\n",
       "    .dataframe thead th {\n",
       "        text-align: right;\n",
       "    }\n",
       "</style>\n",
       "<table border=\"1\" class=\"dataframe\">\n",
       "  <thead>\n",
       "    <tr style=\"text-align: right;\">\n",
       "      <th></th>\n",
       "      <th>WiFi1</th>\n",
       "      <th>WiFi2</th>\n",
       "      <th>WiFi3</th>\n",
       "      <th>WiFi4</th>\n",
       "      <th>WiFi5</th>\n",
       "      <th>WiFi6</th>\n",
       "      <th>WiFi7</th>\n",
       "      <th>Room</th>\n",
       "    </tr>\n",
       "  </thead>\n",
       "  <tbody>\n",
       "    <tr>\n",
       "      <th>count</th>\n",
       "      <td>1999.000000</td>\n",
       "      <td>1999.000000</td>\n",
       "      <td>1999.000000</td>\n",
       "      <td>1999.000000</td>\n",
       "      <td>1999.000000</td>\n",
       "      <td>1999.000000</td>\n",
       "      <td>1999.000000</td>\n",
       "      <td>1999.00000</td>\n",
       "    </tr>\n",
       "    <tr>\n",
       "      <th>mean</th>\n",
       "      <td>-52.324662</td>\n",
       "      <td>-55.623312</td>\n",
       "      <td>-54.960980</td>\n",
       "      <td>-53.560280</td>\n",
       "      <td>-62.636318</td>\n",
       "      <td>-80.984492</td>\n",
       "      <td>-81.726863</td>\n",
       "      <td>2.50075</td>\n",
       "    </tr>\n",
       "    <tr>\n",
       "      <th>std</th>\n",
       "      <td>11.321498</td>\n",
       "      <td>3.418532</td>\n",
       "      <td>5.315801</td>\n",
       "      <td>11.471479</td>\n",
       "      <td>9.105450</td>\n",
       "      <td>6.518263</td>\n",
       "      <td>6.521423</td>\n",
       "      <td>1.11809</td>\n",
       "    </tr>\n",
       "    <tr>\n",
       "      <th>min</th>\n",
       "      <td>-74.000000</td>\n",
       "      <td>-74.000000</td>\n",
       "      <td>-73.000000</td>\n",
       "      <td>-77.000000</td>\n",
       "      <td>-89.000000</td>\n",
       "      <td>-97.000000</td>\n",
       "      <td>-98.000000</td>\n",
       "      <td>1.00000</td>\n",
       "    </tr>\n",
       "    <tr>\n",
       "      <th>25%</th>\n",
       "      <td>-61.000000</td>\n",
       "      <td>-58.000000</td>\n",
       "      <td>-58.000000</td>\n",
       "      <td>-63.000000</td>\n",
       "      <td>-69.000000</td>\n",
       "      <td>-86.000000</td>\n",
       "      <td>-87.000000</td>\n",
       "      <td>2.00000</td>\n",
       "    </tr>\n",
       "    <tr>\n",
       "      <th>50%</th>\n",
       "      <td>-55.000000</td>\n",
       "      <td>-56.000000</td>\n",
       "      <td>-55.000000</td>\n",
       "      <td>-56.000000</td>\n",
       "      <td>-64.000000</td>\n",
       "      <td>-82.000000</td>\n",
       "      <td>-83.000000</td>\n",
       "      <td>3.00000</td>\n",
       "    </tr>\n",
       "    <tr>\n",
       "      <th>75%</th>\n",
       "      <td>-46.000000</td>\n",
       "      <td>-53.000000</td>\n",
       "      <td>-51.000000</td>\n",
       "      <td>-46.000000</td>\n",
       "      <td>-56.000000</td>\n",
       "      <td>-77.000000</td>\n",
       "      <td>-78.000000</td>\n",
       "      <td>3.50000</td>\n",
       "    </tr>\n",
       "    <tr>\n",
       "      <th>max</th>\n",
       "      <td>-10.000000</td>\n",
       "      <td>-45.000000</td>\n",
       "      <td>-40.000000</td>\n",
       "      <td>-11.000000</td>\n",
       "      <td>-36.000000</td>\n",
       "      <td>-61.000000</td>\n",
       "      <td>-63.000000</td>\n",
       "      <td>4.00000</td>\n",
       "    </tr>\n",
       "  </tbody>\n",
       "</table>\n",
       "</div>"
      ],
      "text/plain": [
       "             WiFi1        WiFi2        WiFi3        WiFi4        WiFi5  \\\n",
       "count  1999.000000  1999.000000  1999.000000  1999.000000  1999.000000   \n",
       "mean    -52.324662   -55.623312   -54.960980   -53.560280   -62.636318   \n",
       "std      11.321498     3.418532     5.315801    11.471479     9.105450   \n",
       "min     -74.000000   -74.000000   -73.000000   -77.000000   -89.000000   \n",
       "25%     -61.000000   -58.000000   -58.000000   -63.000000   -69.000000   \n",
       "50%     -55.000000   -56.000000   -55.000000   -56.000000   -64.000000   \n",
       "75%     -46.000000   -53.000000   -51.000000   -46.000000   -56.000000   \n",
       "max     -10.000000   -45.000000   -40.000000   -11.000000   -36.000000   \n",
       "\n",
       "             WiFi6        WiFi7        Room  \n",
       "count  1999.000000  1999.000000  1999.00000  \n",
       "mean    -80.984492   -81.726863     2.50075  \n",
       "std       6.518263     6.521423     1.11809  \n",
       "min     -97.000000   -98.000000     1.00000  \n",
       "25%     -86.000000   -87.000000     2.00000  \n",
       "50%     -82.000000   -83.000000     3.00000  \n",
       "75%     -77.000000   -78.000000     3.50000  \n",
       "max     -61.000000   -63.000000     4.00000  "
      ]
     },
     "execution_count": 10,
     "metadata": {},
     "output_type": "execute_result"
    }
   ],
   "source": [
    "df.describe()"
   ]
  },
  {
   "cell_type": "code",
   "execution_count": 11,
   "id": "0a6f8bae-16cd-452c-a192-95428be247e3",
   "metadata": {},
   "outputs": [
    {
     "data": {
      "image/png": "[encoded data removed]",
      "text/plain": [
       "<Figure size 1200x800 with 9 Axes>"
      ]
     },
     "metadata": {},
     "output_type": "display_data"
    }
   ],
   "source": [
    "import matplotlib.pyplot as plt\n",
    "import seaborn as sns\n",
    "\n",
    "# Histograms for WiFi signal distributions\n",
    "df.iloc[:, :-1].hist(figsize=(12, 8))\n",
    "plt.suptitle('Histograms of WiFi Signal Strengths')\n",
    "plt.tight_layout()\n",
    "plt.show()\n",
    "\n",
    "\n"
   ]
  },
  {
   "cell_type": "code",
   "execution_count": 13,
   "id": "0e145e07-829a-4095-a0c6-aefc36b32688",
   "metadata": {},
   "outputs": [
    {
     "data": {
      "text/plain": [
       "WiFi1    0\n",
       "WiFi2    0\n",
       "WiFi3    0\n",
       "WiFi4    0\n",
       "WiFi5    0\n",
       "WiFi6    0\n",
       "WiFi7    0\n",
       "Room     0\n",
       "dtype: int64"
      ]
     },
     "execution_count": 13,
     "metadata": {},
     "output_type": "execute_result"
    }
   ],
   "source": [
    "df.isnull().sum()"
   ]
  },
  {
   "cell_type": "code",
   "execution_count": 14,
   "id": "ebadb884-29b9-4cb8-98b5-b13667e40f5d",
   "metadata": {},
   "outputs": [
    {
     "data": {
      "image/png": "[encoded data removed]",
      "text/plain": [
       "<Figure size 1200x800 with 1 Axes>"
      ]
     },
     "metadata": {},
     "output_type": "display_data"
    }
   ],
   "source": [
    "# Box plot to identify outliers\n",
    "plt.figure(figsize=(12, 8))\n",
    "sns.boxplot(data=df.iloc[:, :-1])\n",
    "plt.title('Box Plots for WiFi Signal Strengths')\n",
    "plt.xticks(rotation=45)\n",
    "plt.show()"
   ]
  },
  {
   "cell_type": "code",
   "execution_count": 15,
   "id": "c4997469-f522-4655-aecf-39592a9ee753",
   "metadata": {},
   "outputs": [],
   "source": [
    "from sklearn.model_selection import train_test_split\n",
    "#split data into X=features and y=target\n",
    "X=df.iloc[:,:-1]\n",
    "y=df['Room']\n",
    "#split into training and testing sets\n",
    "X_train,X_test,y_train,y_test=train_test_split(X,y,test_size=0.3,random_state=0)\n"
   ]
  },
  {
   "cell_type": "code",
   "execution_count": 16,
   "id": "532e37be-a33d-434f-a27f-54e68d96381d",
   "metadata": {},
   "outputs": [
    {
     "data": {
      "text/html": [
       "<style>#sk-container-id-1 {color: black;background-color: white;}#sk-container-id-1 pre{padding: 0;}#sk-container-id-1 div.sk-toggleable {background-color: white;}#sk-container-id-1 label.sk-toggleable__label {cursor: pointer;display: block;width: 100%;margin-bottom: 0;padding: 0.3em;box-sizing: border-box;text-align: center;}#sk-container-id-1 label.sk-toggleable__label-arrow:before {content: \"▸\";float: left;margin-right: 0.25em;color: #696969;}#sk-container-id-1 label.sk-toggleable__label-arrow:hover:before {color: black;}#sk-container-id-1 div.sk-estimator:hover label.sk-toggleable__label-arrow:before {color: black;}#sk-container-id-1 div.sk-toggleable__content {max-height: 0;max-width: 0;overflow: hidden;text-align: left;background-color: #f0f8ff;}#sk-container-id-1 div.sk-toggleable__content pre {margin: 0.2em;color: black;border-radius: 0.25em;background-color: #f0f8ff;}#sk-container-id-1 input.sk-toggleable__control:checked~div.sk-toggleable__content {max-height: 200px;max-width: 100%;overflow: auto;}#sk-container-id-1 input.sk-toggleable__control:checked~label.sk-toggleable__label-arrow:before {content: \"▾\";}#sk-container-id-1 div.sk-estimator input.sk-toggleable__control:checked~label.sk-toggleable__label {background-color: #d4ebff;}#sk-container-id-1 div.sk-label input.sk-toggleable__control:checked~label.sk-toggleable__label {background-color: #d4ebff;}#sk-container-id-1 input.sk-hidden--visually {border: 0;clip: rect(1px 1px 1px 1px);clip: rect(1px, 1px, 1px, 1px);height: 1px;margin: -1px;overflow: hidden;padding: 0;position: absolute;width: 1px;}#sk-container-id-1 div.sk-estimator {font-family: monospace;background-color: #f0f8ff;border: 1px dotted black;border-radius: 0.25em;box-sizing: border-box;margin-bottom: 0.5em;}#sk-container-id-1 div.sk-estimator:hover {background-color: #d4ebff;}#sk-container-id-1 div.sk-parallel-item::after {content: \"\";width: 100%;border-bottom: 1px solid gray;flex-grow: 1;}#sk-container-id-1 div.sk-label:hover label.sk-toggleable__label {background-color: #d4ebff;}#sk-container-id-1 div.sk-serial::before {content: \"\";position: absolute;border-left: 1px solid gray;box-sizing: border-box;top: 0;bottom: 0;left: 50%;z-index: 0;}#sk-container-id-1 div.sk-serial {display: flex;flex-direction: column;align-items: center;background-color: white;padding-right: 0.2em;padding-left: 0.2em;position: relative;}#sk-container-id-1 div.sk-item {position: relative;z-index: 1;}#sk-container-id-1 div.sk-parallel {display: flex;align-items: stretch;justify-content: center;background-color: white;position: relative;}#sk-container-id-1 div.sk-item::before, #sk-container-id-1 div.sk-parallel-item::before {content: \"\";position: absolute;border-left: 1px solid gray;box-sizing: border-box;top: 0;bottom: 0;left: 50%;z-index: -1;}#sk-container-id-1 div.sk-parallel-item {display: flex;flex-direction: column;z-index: 1;position: relative;background-color: white;}#sk-container-id-1 div.sk-parallel-item:first-child::after {align-self: flex-end;width: 50%;}#sk-container-id-1 div.sk-parallel-item:last-child::after {align-self: flex-start;width: 50%;}#sk-container-id-1 div.sk-parallel-item:only-child::after {width: 0;}#sk-container-id-1 div.sk-dashed-wrapped {border: 1px dashed gray;margin: 0 0.4em 0.5em 0.4em;box-sizing: border-box;padding-bottom: 0.4em;background-color: white;}#sk-container-id-1 div.sk-label label {font-family: monospace;font-weight: bold;display: inline-block;line-height: 1.2em;}#sk-container-id-1 div.sk-label-container {text-align: center;}#sk-container-id-1 div.sk-container {/* jupyter's `normalize.less` sets `[hidden] { display: none; }` but bootstrap.min.css set `[hidden] { display: none !important; }` so we also need the `!important` here to be able to override the default hidden behavior on the sphinx rendered scikit-learn.org. See: https://github.com/scikit-learn/scikit-learn/issues/21755 */display: inline-block !important;position: relative;}#sk-container-id-1 div.sk-text-repr-fallback {display: none;}</style><div id=\"sk-container-id-1\" class=\"sk-top-container\"><div class=\"sk-text-repr-fallback\"><pre>DecisionTreeClassifier(criterion=&#x27;entropy&#x27;, random_state=0)</pre><b>In a Jupyter environment, please rerun this cell to show the HTML representation or trust the notebook. <br />On GitHub, the HTML representation is unable to render, please try loading this page with nbviewer.org.</b></div><div class=\"sk-container\" hidden><div class=\"sk-item\"><div class=\"sk-estimator sk-toggleable\"><input class=\"sk-toggleable__control sk-hidden--visually\" id=\"sk-estimator-id-1\" type=\"checkbox\" checked><label for=\"sk-estimator-id-1\" class=\"sk-toggleable__label sk-toggleable__label-arrow\">DecisionTreeClassifier</label><div class=\"sk-toggleable__content\"><pre>DecisionTreeClassifier(criterion=&#x27;entropy&#x27;, random_state=0)</pre></div></div></div></div></div>"
      ],
      "text/plain": [
       "DecisionTreeClassifier(criterion='entropy', random_state=0)"
      ]
     },
     "execution_count": 16,
     "metadata": {},
     "output_type": "execute_result"
    }
   ],
   "source": [
    "from sklearn.tree import DecisionTreeClassifier\n",
    "classifier=DecisionTreeClassifier(criterion='entropy',random_state=0)\n",
    "classifier.fit(X_train,y_train)"
   ]
  },
  {
   "cell_type": "code",
   "execution_count": 18,
   "id": "6e1f2f10-26c3-48dc-a4cb-eebe65b7c143",
   "metadata": {},
   "outputs": [
    {
     "name": "stdout",
     "output_type": "stream",
     "text": [
      "[1 3 2 3 2 3 3 2 4 1 3 2 1 1 2 2 1 4 2 2 4 2 3 4 2 4 1 2 2 3 2 2 4 4 3 1 3\n",
      " 1 1 2 1 3 3 1 2 2 1 1 4 4 4 3 1 2 1 2 1 3 3 2 2 4 3 2 1 3 2 3 2 1 1 2 4 3\n",
      " 1 4 1 1 4 3 3 1 1 3 4 1 4 1 1 4 1 2 1 3 3 4 4 1 4 1 4 2 2 3 1 4 3 3 2 3 1\n",
      " 4 3 3 4 4 4 1 2 1 4 1 2 1 4 4 2 4 3 3 3 1 1 1 3 1 3 3 2 3 3 4 4 2 1 4 1 1\n",
      " 2 3 1 3 2 4 1 2 1 2 3 3 1 3 3 4 4 2 4 4 2 3 2 3 1 1 2 4 4 1 4 1 4 4 3 1 4\n",
      " 4 4 3 1 2 2 2 1 2 2 4 4 1 1 4 4 3 1 2 3 2 4 3 1 4 1 2 1 3 1 1 4 1 4 4 1 2\n",
      " 4 2 2 3 3 4 1 4 4 1 3 3 4 3 3 3 3 3 2 2 3 2 2 4 1 1 4 4 3 3 3 4 4 1 4 4 4\n",
      " 1 3 1 2 4 2 2 4 2 4 4 2 2 4 3 2 4 2 1 4 3 3 4 4 1 4 2 4 2 3 1 1 4 2 1 4 2\n",
      " 2 2 3 2 3 4 4 4 3 2 1 1 2 4 1 3 1 4 4 2 1 1 2 4 2 3 1 1 3 4 2 4 3 1 4 2 2\n",
      " 3 4 1 2 1 4 1 2 3 3 3 2 4 4 1 4 2 1 4 4 3 3 3 3 4 1 4 4 1 4 3 1 3 1 1 3 4\n",
      " 1 3 1 4 3 4 1 1 3 1 2 1 1 3 2 3 3 2 4 3 1 1 4 4 2 3 1 4 2 2 2 1 3 1 2 2 1\n",
      " 1 3 4 1 4 2 4 4 1 3 4 3 2 3 1 3 1 4 2 2 3 4 2 3 1 1 3 4 2 3 4 2 2 2 2 3 3\n",
      " 1 1 4 4 1 3 1 2 1 2 2 3 4 3 4 4 2 2 1 1 2 1 2 4 3 1 3 3 3 2 4 1 3 4 2 4 2\n",
      " 2 2 3 1 1 4 2 3 3 4 1 3 3 3 4 4 3 3 4 2 3 4 2 2 3 3 4 2 1 3 3 4 1 2 2 4 1\n",
      " 2 3 3 4 4 2 4 2 2 2 2 4 1 3 4 1 1 3 1 2 4 2 1 2 3 3 1 3 3 1 2 2 3 4 2 3 3\n",
      " 1 4 3 3 1 3 1 2 1 4 1 3 3 1 1 4 1 4 4 1 4 1 1 3 3 2 4 2 4 4 4 4 4 1 4 3 2\n",
      " 3 2 2 1 3 4 1 4]\n"
     ]
    }
   ],
   "source": [
    "y_pred=classifier.predict(X_test)\n",
    "print(y_pred)"
   ]
  },
  {
   "cell_type": "code",
   "execution_count": 19,
   "id": "366a795f-f991-453b-959e-05fed5dd3d1a",
   "metadata": {},
   "outputs": [
    {
     "name": "stdout",
     "output_type": "stream",
     "text": [
      "405     1\n",
      "1189    3\n",
      "674     2\n",
      "1358    3\n",
      "810     2\n",
      "       ..\n",
      "108     1\n",
      "1294    3\n",
      "1780    4\n",
      "2       1\n",
      "1774    4\n",
      "Name: Room, Length: 600, dtype: int64\n"
     ]
    }
   ],
   "source": [
    "print(y_test)"
   ]
  },
  {
   "cell_type": "code",
   "execution_count": 20,
   "id": "03d0b447-bfc9-46f2-af01-3b8c83b8d484",
   "metadata": {},
   "outputs": [
    {
     "name": "stdout",
     "output_type": "stream",
     "text": [
      "0.9683333333333334\n"
     ]
    }
   ],
   "source": [
    "from sklearn import metrics\n",
    "acc=metrics.accuracy_score(y_test,y_pred)\n",
    "print(acc)"
   ]
  },
  {
   "cell_type": "code",
   "execution_count": 21,
   "id": "4c0c9a7b-fc7a-41c2-b716-1354802f99b2",
   "metadata": {},
   "outputs": [
    {
     "name": "stdout",
     "output_type": "stream",
     "text": [
      "Confusion Matrix:\n",
      "[[151   0   0   5]\n",
      " [  0 138   7   0]\n",
      " [  2   2 141   2]\n",
      " [  0   0   1 151]] \n",
      "\n",
      "\n",
      "---------\n",
      "classification Report:/n\n",
      "              precision    recall  f1-score   support\n",
      "\n",
      "           1       0.99      0.97      0.98       156\n",
      "           2       0.99      0.95      0.97       145\n",
      "           3       0.95      0.96      0.95       147\n",
      "           4       0.96      0.99      0.97       152\n",
      "\n",
      "    accuracy                           0.97       600\n",
      "   macro avg       0.97      0.97      0.97       600\n",
      "weighted avg       0.97      0.97      0.97       600\n",
      "\n"
     ]
    }
   ],
   "source": [
    "from sklearn import metrics\n",
    "cm=metrics.confusion_matrix(y_test,y_pred)\n",
    "print('Confusion Matrix:')\n",
    "print(cm,'\\n\\n')\n",
    "print('---------')\n",
    "\n",
    "result=metrics.classification_report(y_test,y_pred)\n",
    "print('classification Report:/n')\n",
    "print(result)"
   ]
  },
  {
   "cell_type": "code",
   "execution_count": 23,
   "id": "06b89c6c-c669-45d3-bcee-baf118ba0be2",
   "metadata": {},
   "outputs": [
    {
     "data": {
      "image/png": "[encoded data removed]",
      "text/plain": [
       "<Figure size 800x600 with 2 Axes>"
      ]
     },
     "metadata": {},
     "output_type": "display_data"
    }
   ],
   "source": [
    "import seaborn as sns\n",
    "import matplotlib.pyplot as plt\n",
    "\n",
    "# Visualization 1: Confusion Matrix\n",
    "#  'cm' is  confusion matrix\n",
    "plt.figure(figsize=(8, 6))  \n",
    "ax = sns.heatmap(cm, cmap='flare', annot=True, fmt='d')\n",
    "plt.xlabel(\"Predicted Class\", fontsize=12)\n",
    "plt.ylabel(\"True Class\", fontsize=12)\n",
    "plt.title(\"Confusion Matrix\", fontsize=14)\n",
    "plt.show()\n",
    "\n"
   ]
  },
  {
   "cell_type": "code",
   "execution_count": null,
   "id": "33efcf4b-ccde-43db-b65f-b00f48617de8",
   "metadata": {},
   "outputs": [],
   "source": []
  }
 ],
 "metadata": {
  "kernelspec": {
   "display_name": "Python 3 (ipykernel)",
   "language": "python",
   "name": "python3"
  },
  "language_info": {
   "codemirror_mode": {
    "name": "ipython",
    "version": 3
   },
   "file_extension": ".py",
   "mimetype": "text/x-python",
   "name": "python",
   "nbconvert_exporter": "python",
   "pygments_lexer": "ipython3",
   "version": "3.11.7"
  }
 },
 "nbformat": 4,
 "nbformat_minor": 5
}
